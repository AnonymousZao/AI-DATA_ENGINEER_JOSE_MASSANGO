{
 "cells": [
  {
   "cell_type": "code",
   "execution_count": 2,
   "id": "7e9e584e-975a-49d8-9a11-aba9fdb85c31",
   "metadata": {},
   "outputs": [
    {
     "name": "stdout",
     "output_type": "stream",
     "text": [
      "Folds needed to surpass Mount Fuji: 26\n",
      "Folds needed to reach the Moon: 43\n",
      "Folds needed to reach Proxima Centauri: 69\n",
      "Required paper length to fold to Mount Fuji: 1.89e+11 meters\n",
      "Required paper length to fold to the Moon: 3.24e+21 meters\n",
      "Required paper length to fold to Proxima Centauri: 1.46e+37 meters\n"
     ]
    }
   ],
   "source": [
    "import math\n",
    "\n",
    "def fold_count(target_height, initial_thickness=0.00008):\n",
    "    \"\"\"Calculates the minimum number of folds needed for the paper to exceed the desired height.\"\"\"\n",
    "    n = 0\n",
    "    thickness = initial_thickness\n",
    "    while thickness < target_height:\n",
    "        thickness *= 2\n",
    "        n += 1\n",
    "    return n\n",
    "\n",
    "def paper_length_to_fold(n, initial_thickness=0.00008):\n",
    "    \"\"\"Calculates the required length of paper to fold it n times.\"\"\"\n",
    "    return (math.pi * initial_thickness / 6) * (2**n + 4) * (2**n - 1)\n",
    "\n",
    "# Reference heights\n",
    "mount_fuji_height = 3776  # meters\n",
    "moon_distance = 384400000  # meters\n",
    "proxima_centauri_distance = 4.0175e16  # meters\n",
    "\n",
    "# Calculating required folds\n",
    "folds_fuji = fold_count(mount_fuji_height)\n",
    "folds_moon = fold_count(moon_distance)\n",
    "folds_proxima = fold_count(proxima_centauri_distance)\n",
    "\n",
    "# Calculating required paper length\n",
    "length_fuji = paper_length_to_fold(folds_fuji)\n",
    "length_moon = paper_length_to_fold(folds_moon)\n",
    "length_proxima = paper_length_to_fold(folds_proxima)\n",
    "\n",
    "# Display results\n",
    "print(f\"Folds needed to surpass Mount Fuji: {folds_fuji}\")\n",
    "print(f\"Folds needed to reach the Moon: {folds_moon}\")\n",
    "print(f\"Folds needed to reach Proxima Centauri: {folds_proxima}\")\n",
    "print(f\"Required paper length to fold to Mount Fuji: {length_fuji:.2e} meters\")\n",
    "print(f\"Required paper length to fold to the Moon: {length_moon:.2e} meters\")\n",
    "print(f\"Required paper length to fold to Proxima Centauri: {length_proxima:.2e} meters\")"
   ]
  }
 ],
 "metadata": {
  "kernelspec": {
   "display_name": "Python 3 (ipykernel)",
   "language": "python",
   "name": "python3"
  },
  "language_info": {
   "codemirror_mode": {
    "name": "ipython",
    "version": 3
   },
   "file_extension": ".py",
   "mimetype": "text/x-python",
   "name": "python",
   "nbconvert_exporter": "python",
   "pygments_lexer": "ipython3",
   "version": "3.10.0"
  }
 },
 "nbformat": 4,
 "nbformat_minor": 5
}
